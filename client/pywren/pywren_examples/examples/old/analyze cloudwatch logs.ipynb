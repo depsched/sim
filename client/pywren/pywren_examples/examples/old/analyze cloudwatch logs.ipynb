{
 "cells": [
  {
   "cell_type": "code",
   "execution_count": 1,
   "metadata": {
    "ExecuteTime": {
     "end_time": "2017-01-18T15:31:43.483062",
     "start_time": "2017-01-18T15:31:42.639990"
    },
    "collapsed": false,
    "run_control": {
     "frozen": false,
     "read_only": false
    }
   },
   "outputs": [
    {
     "name": "stdout",
     "output_type": "stream",
     "text": [
      "Populating the interactive namespace from numpy and matplotlib\n"
     ]
    }
   ],
   "source": [
    "%pylab inline\n",
    "import boto3\n",
    "import pywren\n",
    "\n",
    "\n",
    "\n",
    "config = pywren.wrenconfig.default()\n",
    "\n",
    "logclient = boto3.client('logs', region_name=config['account']['aws_region'])"
   ]
  },
  {
   "cell_type": "code",
   "execution_count": 2,
   "metadata": {
    "ExecuteTime": {
     "end_time": "2017-01-18T15:31:46.073867",
     "start_time": "2017-01-18T15:31:44.521337"
    },
    "collapsed": true
   },
   "outputs": [],
   "source": [
    "wrenexec = pywren.default_executor()\n",
    "def f(x):\n",
    "    return x + 3\n",
    "a = wrenexec.call_async(f, 10)"
   ]
  },
  {
   "cell_type": "code",
   "execution_count": 3,
   "metadata": {
    "ExecuteTime": {
     "end_time": "2017-01-18T15:31:51.081477",
     "start_time": "2017-01-18T15:31:46.773844"
    },
    "collapsed": false
   },
   "outputs": [
    {
     "data": {
      "text/plain": [
       "13"
      ]
     },
     "execution_count": 3,
     "metadata": {},
     "output_type": "execute_result"
    }
   ],
   "source": [
    "a.result()"
   ]
  },
  {
   "cell_type": "code",
   "execution_count": 9,
   "metadata": {
    "ExecuteTime": {
     "end_time": "2017-01-18T15:32:35.814926",
     "start_time": "2017-01-18T15:32:35.444335"
    },
    "collapsed": false
   },
   "outputs": [
    {
     "data": {
      "text/plain": [
       "[(1484782306587,\n",
       "  u'START RequestId: 4700c02a-ddd6-11e6-a44d-1d8e6d45ba73 Version: $LATEST'),\n",
       " (1484782306597, u'invocation started'),\n",
       " (1484782307707,\n",
       "  u'bucket= jonas-testbucket2 key= pywren.jobs/58de4dc2-3080-44a2-9bc1-b94332c79239/aggdata.pickle status:  5 bytes'),\n",
       " (1484782308778, u'func download complete'),\n",
       " (1484782308888, u'input data download complete'),\n",
       " (1484782308889,\n",
       "  u'to_make= /tmp/pymodules/pywren/scripts m_path= pywren/scripts'),\n",
       " (1484782308889, u'creating /tmp/pymodules/pywren/scripts/pywrencli.py'),\n",
       " (1484782308889,\n",
       "  u'to_make= /tmp/pymodules/pywren/cloudpickle m_path= pywren/cloudpickle'),\n",
       " (1484782308907,\n",
       "  u'creating /tmp/pymodules/pywren/cloudpickle/module_dependency.py'),\n",
       " (1484782308907, u'to_make= /tmp/pymodules/glob2 m_path= glob2'),\n",
       " (1484782308907, u'creating /tmp/pymodules/glob2/impl.py'),\n",
       " (1484782308907, u'to_make= /tmp/pymodules/pywren m_path= pywren'),\n",
       " (1484782308907, u'creating /tmp/pymodules/pywren/__init__.py'),\n",
       " (1484782308907,\n",
       "  u'to_make= /tmp/pymodules/pywren/cloudpickle m_path= pywren/cloudpickle'),\n",
       " (1484782308907, u'creating /tmp/pymodules/pywren/cloudpickle/cloudpickle.py'),\n",
       " (1484782308907, u'to_make= /tmp/pymodules/pywren m_path= pywren'),\n",
       " (1484782308907, u'creating /tmp/pymodules/pywren/wrenutil.py'),\n",
       " (1484782308907,\n",
       "  u'to_make= /tmp/pymodules/pywren/cloudpickle m_path= pywren/cloudpickle'),\n",
       " (1484782308907, u'creating /tmp/pymodules/pywren/cloudpickle/__init__.py'),\n",
       " (1484782308907, u'to_make= /tmp/pymodules/glob2 m_path= glob2'),\n",
       " (1484782308907, u'creating /tmp/pymodules/glob2/fnmatch.py'),\n",
       " (1484782308907, u'to_make= /tmp/pymodules/pywren m_path= pywren'),\n",
       " (1484782308907, u'creating /tmp/pymodules/pywren/wrenlogging.py'),\n",
       " (1484782308907, u'to_make= /tmp/pymodules/pywren m_path= pywren'),\n",
       " (1484782308907, u'creating /tmp/pymodules/pywren/s3util.py'),\n",
       " (1484782308907, u'to_make= /tmp/pymodules/glob2 m_path= glob2'),\n",
       " (1484782308907, u'creating /tmp/pymodules/glob2/__init__.py'),\n",
       " (1484782308907, u'to_make= /tmp/pymodules/pywren m_path= pywren'),\n",
       " (1484782308907, u'creating /tmp/pymodules/pywren/wren.py'),\n",
       " (1484782308907,\n",
       "  u'to_make= /tmp/pymodules/pywren/cloudpickle m_path= pywren/cloudpickle'),\n",
       " (1484782308907, u'creating /tmp/pymodules/pywren/cloudpickle/preinstalls.py'),\n",
       " (1484782308907,\n",
       "  u'to_make= /tmp/pymodules/pywren/cloudpickle m_path= pywren/cloudpickle'),\n",
       " (1484782308907, u'creating /tmp/pymodules/pywren/cloudpickle/serialize.py'),\n",
       " (1484782308907, u'to_make= /tmp/pymodules/pywren m_path= pywren'),\n",
       " (1484782308907, u'creating /tmp/pymodules/pywren/multiwren.py'),\n",
       " (1484782308907,\n",
       "  u'to_make= /tmp/pymodules/pywren/scripts m_path= pywren/scripts'),\n",
       " (1484782308907, u'creating /tmp/pymodules/pywren/scripts/__init__.py'),\n",
       " (1484782308907, u'to_make= /tmp/pymodules/pywren m_path= pywren'),\n",
       " (1484782308907, u'creating /tmp/pymodules/pywren/wrenconfig.py'),\n",
       " (1484782308907, u'to_make= /tmp/pymodules/pywren m_path= pywren'),\n",
       " (1484782308907, u'creating /tmp/pymodules/pywren/jobrunner.py'),\n",
       " (1484782308907,\n",
       "  u'to_make= /tmp/pymodules/pywren/cloudpickle m_path= pywren/cloudpickle'),\n",
       " (1484782308907, u'creating /tmp/pymodules/pywren/cloudpickle/testmod.py'),\n",
       " (1484782308907,\n",
       "  u'to_make= /tmp/pymodules/pywren/cloudpickle m_path= pywren/cloudpickle'),\n",
       " (1484782308907, u'creating /tmp/pymodules/pywren/cloudpickle/testmod2.py'),\n",
       " (1484782308907, u'to_make= /tmp/pymodules/pywren m_path= pywren'),\n",
       " (1484782308907, u'creating /tmp/pymodules/pywren/wrenhandler.py'),\n",
       " (1484782308907, u'to_make= /tmp/pymodules/glob2 m_path= glob2'),\n",
       " (1484782308907, u'creating /tmp/pymodules/glob2/compat.py'),\n",
       " (1484782308910, u'/tmp/pymodules'),\n",
       " (1484782308910, u'/tmp/pymodules/glob2'),\n",
       " (1484782308910, u'/tmp/pymodules/glob2/impl.py'),\n",
       " (1484782308910, u'/tmp/pymodules/glob2/compat.py'),\n",
       " (1484782308910, u'/tmp/pymodules/glob2/fnmatch.py'),\n",
       " (1484782308910, u'/tmp/pymodules/glob2/__init__.py'),\n",
       " (1484782308910, u'/tmp/pymodules/pywren'),\n",
       " (1484782308910, u'/tmp/pymodules/pywren/wrenutil.py'),\n",
       " (1484782308910, u'/tmp/pymodules/pywren/cloudpickle'),\n",
       " (1484782308910, u'/tmp/pymodules/pywren/cloudpickle/serialize.py'),\n",
       " (1484782308910, u'/tmp/pymodules/pywren/cloudpickle/testmod2.py'),\n",
       " (1484782308910, u'/tmp/pymodules/pywren/cloudpickle/cloudpickle.py'),\n",
       " (1484782308910, u'/tmp/pymodules/pywren/cloudpickle/testmod.py'),\n",
       " (1484782308910, u'/tmp/pymodules/pywren/cloudpickle/preinstalls.py'),\n",
       " (1484782308910, u'/tmp/pymodules/pywren/cloudpickle/__init__.py'),\n",
       " (1484782308910, u'/tmp/pymodules/pywren/cloudpickle/module_dependency.py'),\n",
       " (1484782308910, u'/tmp/pymodules/pywren/wrenconfig.py'),\n",
       " (1484782308910, u'/tmp/pymodules/pywren/jobrunner.py'),\n",
       " (1484782308910, u'/tmp/pymodules/pywren/multiwren.py'),\n",
       " (1484782308910, u'/tmp/pymodules/pywren/s3util.py'),\n",
       " (1484782308910, u'/tmp/pymodules/pywren/wrenhandler.py'),\n",
       " (1484782308910, u'/tmp/pymodules/pywren/__init__.py'),\n",
       " (1484782308910, u'/tmp/pymodules/pywren/scripts'),\n",
       " (1484782308910, u'/tmp/pymodules/pywren/scripts/pywrencli.py'),\n",
       " (1484782308910, u'/tmp/pymodules/pywren/scripts/__init__.py'),\n",
       " (1484782308910, u'/tmp/pymodules/pywren/wren.py'),\n",
       " (1484782308910, u'/tmp/pymodules/pywren/wrenlogging.py'),\n",
       " (1484782308913, u'/var/task'),\n",
       " (1484782308913, u'/var/task/wren.old.py'),\n",
       " (1484782308913, u'/var/task/logtest.py'),\n",
       " (1484782308913, u'/var/task/wrenutil.py'),\n",
       " (1484782308913, u'/var/task/wrenconfig.py'),\n",
       " (1484782308913, u'/var/task/wrenlogging.py'),\n",
       " (1484782308913, u'/var/task/wren.py'),\n",
       " (1484782308913, u'/var/task/wrenhandler.py'),\n",
       " (1484782308913, u'/var/task/scripts'),\n",
       " (1484782308913, u'/var/task/scripts/pywrencli.py'),\n",
       " (1484782308913, u'/var/task/scripts/__init__.py'),\n",
       " (1484782308913, u'/var/task/jobrunner.py'),\n",
       " (1484782308913, u'/var/task/__init__.py'),\n",
       " (1484782308913, u'/var/task/s3util.py'),\n",
       " (1484782308913, u'/var/task/multiwren.py'),\n",
       " (1484782308913, u'/var/task/cloudpickle'),\n",
       " (1484782308913, u'/var/task/cloudpickle/module_dependency.py'),\n",
       " (1484782308913, u'/var/task/cloudpickle/serialize.py'),\n",
       " (1484782308913, u'/var/task/cloudpickle/testmod.py'),\n",
       " (1484782308913, u'/var/task/cloudpickle/cloudpickle.py'),\n",
       " (1484782308913, u'/var/task/cloudpickle/testmod2.py'),\n",
       " (1484782308913, u'/var/task/cloudpickle/__init__.py'),\n",
       " (1484782308913, u'/var/task/cloudpickle/preinstalls.py'),\n",
       " (1484782308981, u'The etag is =cc63aaec953122827358fb321363b403-16'),\n",
       " (1484782308981,\n",
       "  u'Runtime etag dir=/tmp/runtimes/cc63aaec953122827358fb321363b403-16'),\n",
       " (1484782308981,\n",
       "  u'Expected target=/tmp/runtimes/cc63aaec953122827358fb321363b403-16/condaruntime'),\n",
       " (1484782308981,\n",
       "  u'found existing cc63aaec953122827358fb321363b403-16, not re-downloading'),\n",
       " (1484782308981,\n",
       "  u\"{u'callset_id': u'58de4dc2-3080-44a2-9bc1-b94332c79239', u'runtime_s3_key': u'condaruntime.stripped.scipy-cvxpy-sklearn.mkl_avx2.tar.gz', u'use_cached_runtime': True, u'lambda_function_name': u'pywren_latest', u'runtime_s3_bucket': u'ericmjonas-public', u'func_key': [u'jonas-testbucket2', u'pywren.jobs/58de4dc2-3080-44a2-9bc1-b94332c79239/lambda.pickle'], u'call_id': u'00000', u'status_key': [u'jonas-testbucket2', u'pywren.jobs/58de4dc2-3080-44a2-9bc1-b94332c79239/00000/status.json'], u'host_submit_time': 1484782305.836367, u'output_key': [u'jonas-testbucket2', u'pywren.jobs/58de4dc2-3080-44a2-9bc1-b94332c79239/00000/output.pickle'], u'data_byte_range': [0, 4], u'data_key': [u'jonas-testbucket2', u'pywren.jobs/58de4dc2-3080-44a2-9bc1-b94332c79239/aggdata.pickle']}\"),\n",
       " (1484782308981, u'state written to disk'),\n",
       " (1484782308981,\n",
       "  u'command str= /tmp/condaruntime/bin/python /var/task/jobrunner.py /tmp/func.pickle /tmp/data.pickle /tmp/output.pickle'),\n",
       " (1484782309171,\n",
       "  u'command executed, stdout= loading /tmp/func.pickle /tmp/data.pickle /tmp/output.pickle'),\n",
       " (1484782309171, u'loaded'),\n",
       " (1484782309171, u'success'),\n",
       " (1484782309713, u'END RequestId: 4700c02a-ddd6-11e6-a44d-1d8e6d45ba73'),\n",
       " (1484782309713,\n",
       "  u'REPORT RequestId: 4700c02a-ddd6-11e6-a44d-1d8e6d45ba73\\tDuration: 3122.27 ms\\tBilled Duration: 3200 ms \\tMemory Size: 1536 MB\\tMax Memory Used: 527 MB')]"
      ]
     },
     "execution_count": 9,
     "metadata": {},
     "output_type": "execute_result"
    }
   ],
   "source": [
    "wrenexec.get_logs(a)"
   ]
  },
  {
   "cell_type": "code",
   "execution_count": 6,
   "metadata": {
    "ExecuteTime": {
     "end_time": "2017-01-18T15:32:07.699573",
     "start_time": "2017-01-18T15:32:07.419530"
    },
    "collapsed": false
   },
   "outputs": [],
   "source": [
    "log_group_name = a.run_status['log_group_name']\n",
    "log_stream_name = a.run_status['log_stream_name']\n",
    "lambda_function_name = a.invoke_status['lambda_function_name']\n",
    "aws_request_id = a.run_status['aws_request_id']\n",
    "\n",
    "log_events = logclient.get_log_events(\n",
    "    logGroupName=log_group_name,\n",
    "    logStreamName=log_stream_name,)\n"
   ]
  },
  {
   "cell_type": "code",
   "execution_count": 7,
   "metadata": {
    "ExecuteTime": {
     "end_time": "2017-01-18T15:32:12.949732",
     "start_time": "2017-01-18T15:32:12.928493"
    },
    "collapsed": false
   },
   "outputs": [],
   "source": [
    "this_events_logs = []\n",
    "in_this_event = False\n",
    "for event in log_events['events']:\n",
    "    start_string = \"START RequestId: {}\".format(aws_request_id)\n",
    "    end_string = \"REPORT RequestId: {}\".format(aws_request_id)\n",
    "\n",
    "    message = event['message'].strip()\n",
    "    timestamp = int(event['timestamp'])\n",
    "    if start_string in message:\n",
    "        in_this_event = True\n",
    "    elif end_string in message:\n",
    "        in_this_event = False\n",
    "        this_events_logs.append((timestamp, message))\n",
    "        \n",
    "    if in_this_event:\n",
    "        this_events_logs.append((timestamp, message))\n",
    "    \n",
    "    #print \"{} : {}\".format(event['timestamp'], event['message'].strip())"
   ]
  },
  {
   "cell_type": "code",
   "execution_count": 8,
   "metadata": {
    "ExecuteTime": {
     "end_time": "2017-01-18T15:32:14.350324",
     "start_time": "2017-01-18T15:32:14.317506"
    },
    "collapsed": false
   },
   "outputs": [
    {
     "name": "stdout",
     "output_type": "stream",
     "text": [
      "1484782306587 : START RequestId: 4700c02a-ddd6-11e6-a44d-1d8e6d45ba73 Version: $LATEST\n",
      "1484782306597 : invocation started\n",
      "1484782307707 : bucket= jonas-testbucket2 key= pywren.jobs/58de4dc2-3080-44a2-9bc1-b94332c79239/aggdata.pickle status:  5 bytes\n",
      "1484782308778 : func download complete\n",
      "1484782308888 : input data download complete\n",
      "1484782308889 : to_make= /tmp/pymodules/pywren/scripts m_path= pywren/scripts\n",
      "1484782308889 : creating /tmp/pymodules/pywren/scripts/pywrencli.py\n",
      "1484782308889 : to_make= /tmp/pymodules/pywren/cloudpickle m_path= pywren/cloudpickle\n",
      "1484782308907 : creating /tmp/pymodules/pywren/cloudpickle/module_dependency.py\n",
      "1484782308907 : to_make= /tmp/pymodules/glob2 m_path= glob2\n",
      "1484782308907 : creating /tmp/pymodules/glob2/impl.py\n",
      "1484782308907 : to_make= /tmp/pymodules/pywren m_path= pywren\n",
      "1484782308907 : creating /tmp/pymodules/pywren/__init__.py\n",
      "1484782308907 : to_make= /tmp/pymodules/pywren/cloudpickle m_path= pywren/cloudpickle\n",
      "1484782308907 : creating /tmp/pymodules/pywren/cloudpickle/cloudpickle.py\n",
      "1484782308907 : to_make= /tmp/pymodules/pywren m_path= pywren\n",
      "1484782308907 : creating /tmp/pymodules/pywren/wrenutil.py\n",
      "1484782308907 : to_make= /tmp/pymodules/pywren/cloudpickle m_path= pywren/cloudpickle\n",
      "1484782308907 : creating /tmp/pymodules/pywren/cloudpickle/__init__.py\n",
      "1484782308907 : to_make= /tmp/pymodules/glob2 m_path= glob2\n",
      "1484782308907 : creating /tmp/pymodules/glob2/fnmatch.py\n",
      "1484782308907 : to_make= /tmp/pymodules/pywren m_path= pywren\n",
      "1484782308907 : creating /tmp/pymodules/pywren/wrenlogging.py\n",
      "1484782308907 : to_make= /tmp/pymodules/pywren m_path= pywren\n",
      "1484782308907 : creating /tmp/pymodules/pywren/s3util.py\n",
      "1484782308907 : to_make= /tmp/pymodules/glob2 m_path= glob2\n",
      "1484782308907 : creating /tmp/pymodules/glob2/__init__.py\n",
      "1484782308907 : to_make= /tmp/pymodules/pywren m_path= pywren\n",
      "1484782308907 : creating /tmp/pymodules/pywren/wren.py\n",
      "1484782308907 : to_make= /tmp/pymodules/pywren/cloudpickle m_path= pywren/cloudpickle\n",
      "1484782308907 : creating /tmp/pymodules/pywren/cloudpickle/preinstalls.py\n",
      "1484782308907 : to_make= /tmp/pymodules/pywren/cloudpickle m_path= pywren/cloudpickle\n",
      "1484782308907 : creating /tmp/pymodules/pywren/cloudpickle/serialize.py\n",
      "1484782308907 : to_make= /tmp/pymodules/pywren m_path= pywren\n",
      "1484782308907 : creating /tmp/pymodules/pywren/multiwren.py\n",
      "1484782308907 : to_make= /tmp/pymodules/pywren/scripts m_path= pywren/scripts\n",
      "1484782308907 : creating /tmp/pymodules/pywren/scripts/__init__.py\n",
      "1484782308907 : to_make= /tmp/pymodules/pywren m_path= pywren\n",
      "1484782308907 : creating /tmp/pymodules/pywren/wrenconfig.py\n",
      "1484782308907 : to_make= /tmp/pymodules/pywren m_path= pywren\n",
      "1484782308907 : creating /tmp/pymodules/pywren/jobrunner.py\n",
      "1484782308907 : to_make= /tmp/pymodules/pywren/cloudpickle m_path= pywren/cloudpickle\n",
      "1484782308907 : creating /tmp/pymodules/pywren/cloudpickle/testmod.py\n",
      "1484782308907 : to_make= /tmp/pymodules/pywren/cloudpickle m_path= pywren/cloudpickle\n",
      "1484782308907 : creating /tmp/pymodules/pywren/cloudpickle/testmod2.py\n",
      "1484782308907 : to_make= /tmp/pymodules/pywren m_path= pywren\n",
      "1484782308907 : creating /tmp/pymodules/pywren/wrenhandler.py\n",
      "1484782308907 : to_make= /tmp/pymodules/glob2 m_path= glob2\n",
      "1484782308907 : creating /tmp/pymodules/glob2/compat.py\n",
      "1484782308910 : /tmp/pymodules\n",
      "1484782308910 : /tmp/pymodules/glob2\n",
      "1484782308910 : /tmp/pymodules/glob2/impl.py\n",
      "1484782308910 : /tmp/pymodules/glob2/compat.py\n",
      "1484782308910 : /tmp/pymodules/glob2/fnmatch.py\n",
      "1484782308910 : /tmp/pymodules/glob2/__init__.py\n",
      "1484782308910 : /tmp/pymodules/pywren\n",
      "1484782308910 : /tmp/pymodules/pywren/wrenutil.py\n",
      "1484782308910 : /tmp/pymodules/pywren/cloudpickle\n",
      "1484782308910 : /tmp/pymodules/pywren/cloudpickle/serialize.py\n",
      "1484782308910 : /tmp/pymodules/pywren/cloudpickle/testmod2.py\n",
      "1484782308910 : /tmp/pymodules/pywren/cloudpickle/cloudpickle.py\n",
      "1484782308910 : /tmp/pymodules/pywren/cloudpickle/testmod.py\n",
      "1484782308910 : /tmp/pymodules/pywren/cloudpickle/preinstalls.py\n",
      "1484782308910 : /tmp/pymodules/pywren/cloudpickle/__init__.py\n",
      "1484782308910 : /tmp/pymodules/pywren/cloudpickle/module_dependency.py\n",
      "1484782308910 : /tmp/pymodules/pywren/wrenconfig.py\n",
      "1484782308910 : /tmp/pymodules/pywren/jobrunner.py\n",
      "1484782308910 : /tmp/pymodules/pywren/multiwren.py\n",
      "1484782308910 : /tmp/pymodules/pywren/s3util.py\n",
      "1484782308910 : /tmp/pymodules/pywren/wrenhandler.py\n",
      "1484782308910 : /tmp/pymodules/pywren/__init__.py\n",
      "1484782308910 : /tmp/pymodules/pywren/scripts\n",
      "1484782308910 : /tmp/pymodules/pywren/scripts/pywrencli.py\n",
      "1484782308910 : /tmp/pymodules/pywren/scripts/__init__.py\n",
      "1484782308910 : /tmp/pymodules/pywren/wren.py\n",
      "1484782308910 : /tmp/pymodules/pywren/wrenlogging.py\n",
      "1484782308913 : /var/task\n",
      "1484782308913 : /var/task/wren.old.py\n",
      "1484782308913 : /var/task/logtest.py\n",
      "1484782308913 : /var/task/wrenutil.py\n",
      "1484782308913 : /var/task/wrenconfig.py\n",
      "1484782308913 : /var/task/wrenlogging.py\n",
      "1484782308913 : /var/task/wren.py\n",
      "1484782308913 : /var/task/wrenhandler.py\n",
      "1484782308913 : /var/task/scripts\n",
      "1484782308913 : /var/task/scripts/pywrencli.py\n",
      "1484782308913 : /var/task/scripts/__init__.py\n",
      "1484782308913 : /var/task/jobrunner.py\n",
      "1484782308913 : /var/task/__init__.py\n",
      "1484782308913 : /var/task/s3util.py\n",
      "1484782308913 : /var/task/multiwren.py\n",
      "1484782308913 : /var/task/cloudpickle\n",
      "1484782308913 : /var/task/cloudpickle/module_dependency.py\n",
      "1484782308913 : /var/task/cloudpickle/serialize.py\n",
      "1484782308913 : /var/task/cloudpickle/testmod.py\n",
      "1484782308913 : /var/task/cloudpickle/cloudpickle.py\n",
      "1484782308913 : /var/task/cloudpickle/testmod2.py\n",
      "1484782308913 : /var/task/cloudpickle/__init__.py\n",
      "1484782308913 : /var/task/cloudpickle/preinstalls.py\n",
      "1484782308981 : The etag is =cc63aaec953122827358fb321363b403-16\n",
      "1484782308981 : Runtime etag dir=/tmp/runtimes/cc63aaec953122827358fb321363b403-16\n",
      "1484782308981 : Expected target=/tmp/runtimes/cc63aaec953122827358fb321363b403-16/condaruntime\n",
      "1484782308981 : found existing cc63aaec953122827358fb321363b403-16, not re-downloading\n",
      "1484782308981 : {u'callset_id': u'58de4dc2-3080-44a2-9bc1-b94332c79239', u'runtime_s3_key': u'condaruntime.stripped.scipy-cvxpy-sklearn.mkl_avx2.tar.gz', u'use_cached_runtime': True, u'lambda_function_name': u'pywren_latest', u'runtime_s3_bucket': u'ericmjonas-public', u'func_key': [u'jonas-testbucket2', u'pywren.jobs/58de4dc2-3080-44a2-9bc1-b94332c79239/lambda.pickle'], u'call_id': u'00000', u'status_key': [u'jonas-testbucket2', u'pywren.jobs/58de4dc2-3080-44a2-9bc1-b94332c79239/00000/status.json'], u'host_submit_time': 1484782305.836367, u'output_key': [u'jonas-testbucket2', u'pywren.jobs/58de4dc2-3080-44a2-9bc1-b94332c79239/00000/output.pickle'], u'data_byte_range': [0, 4], u'data_key': [u'jonas-testbucket2', u'pywren.jobs/58de4dc2-3080-44a2-9bc1-b94332c79239/aggdata.pickle']}\n",
      "1484782308981 : state written to disk\n",
      "1484782308981 : command str= /tmp/condaruntime/bin/python /var/task/jobrunner.py /tmp/func.pickle /tmp/data.pickle /tmp/output.pickle\n",
      "1484782309171 : command executed, stdout= loading /tmp/func.pickle /tmp/data.pickle /tmp/output.pickle\n",
      "1484782309171 : loaded\n",
      "1484782309171 : success\n",
      "1484782309713 : END RequestId: 4700c02a-ddd6-11e6-a44d-1d8e6d45ba73\n",
      "1484782309713 : REPORT RequestId: 4700c02a-ddd6-11e6-a44d-1d8e6d45ba73\tDuration: 3122.27 ms\tBilled Duration: 3200 ms \tMemory Size: 1536 MB\tMax Memory Used: 527 MB\n"
     ]
    }
   ],
   "source": [
    "for event in this_events_logs:\n",
    "    print \"{} : {}\".format(*event)"
   ]
  },
  {
   "cell_type": "code",
   "execution_count": null,
   "metadata": {
    "collapsed": true
   },
   "outputs": [],
   "source": []
  },
  {
   "cell_type": "code",
   "execution_count": 35,
   "metadata": {
    "ExecuteTime": {
     "end_time": "2017-01-18T14:39:10.218865",
     "start_time": "2017-01-18T14:39:10.210430"
    },
    "collapsed": false
   },
   "outputs": [
    {
     "data": {
      "text/plain": [
       "u'4747d503-ddce-11e6-897e-872b858b572a'"
      ]
     },
     "execution_count": 35,
     "metadata": {},
     "output_type": "execute_result"
    }
   ],
   "source": [
    "a.run_status['aws_request_id']"
   ]
  }
 ],
 "metadata": {
  "kernelspec": {
   "display_name": "Python [default]",
   "language": "python",
   "name": "python2"
  },
  "language_info": {
   "codemirror_mode": {
    "name": "ipython",
    "version": 2
   },
   "file_extension": ".py",
   "mimetype": "text/x-python",
   "name": "python",
   "nbconvert_exporter": "python",
   "pygments_lexer": "ipython2",
   "version": "2.7.12"
  },
  "toc": {
   "nav_menu": {
    "height": "12px",
    "width": "252px"
   },
   "navigate_menu": true,
   "number_sections": true,
   "sideBar": true,
   "threshold": 4,
   "toc_cell": false,
   "toc_section_display": "block",
   "toc_window_display": false
  }
 },
 "nbformat": 4,
 "nbformat_minor": 1
}
